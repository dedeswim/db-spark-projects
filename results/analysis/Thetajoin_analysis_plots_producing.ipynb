{
 "cells": [
  {
   "cell_type": "code",
   "execution_count": 15,
   "metadata": {},
   "outputs": [],
   "source": [
    "import numpy as np\n",
    "import pandas as pd\n",
    "import matplotlib.pyplot as plt\n",
    "import matplotlib"
   ]
  },
  {
   "cell_type": "code",
   "execution_count": 16,
   "metadata": {},
   "outputs": [],
   "source": [
    "matplotlib.use(\"pgf\")\n",
    "matplotlib.rcParams.update({\n",
    "    \"pgf.texsystem\": \"pdflatex\",\n",
    "    'font.family': 'serif',\n",
    "    'text.usetex': True,\n",
    "    'pgf.rcfonts': False,\n",
    "})"
   ]
  },
  {
   "cell_type": "code",
   "execution_count": 17,
   "metadata": {},
   "outputs": [],
   "source": [
    "def read_data(filename):\n",
    "    theta = pd.read_csv(filename, header = None)\n",
    "    theta = theta[[0, 1, 2, 3, 9, 10]]\n",
    "    theta[0] = theta[0].apply(lambda x: int(x.replace(\"(\", \"\")))\n",
    "    theta[10] = theta[10].apply(lambda x: float(x.replace(\")\", \"\")))\n",
    "    for i in [2,3]:\n",
    "        theta[i] = theta[i].apply(lambda x: int(x))\n",
    "    theta[9] = theta[9].apply(lambda x: float(x))\n",
    "    theta = theta.sort_values(by=[0, 2, 3])\n",
    "    theta = theta.rename(columns={0:\"partitions\", 1:\"condition\", 2:\"attrIndex1\", 3:\"attrIndex2\", 9:\"mean\", 10:\"std\"})\n",
    "    return theta"
   ]
  },
  {
   "cell_type": "code",
   "execution_count": 18,
   "metadata": {},
   "outputs": [],
   "source": [
    "def extract_joins(theta_dataset, attrIndex1, attrIndex2):\n",
    "    theta_extr = theta_dataset[(theta_dataset[\"attrIndex1\"]==attrIndex1) & (theta_dataset[\"attrIndex2\"]==attrIndex2)]\n",
    "    theta_extr_less = theta_extr[theta_extr[\"condition\"]==\"<\"].sort_values(by=\"partitions\")\n",
    "    theta_extr_more = theta_extr[theta_extr[\"condition\"]==\">\"].sort_values(by=\"partitions\")\n",
    "    return theta_extr_less, theta_extr_more"
   ]
  },
  {
   "cell_type": "code",
   "execution_count": 25,
   "metadata": {},
   "outputs": [],
   "source": [
    "def plot_dataset(theta_less, theta_more, size_label):\n",
    "    plt.figure(figsize=(17, 8))\n",
    "\n",
    "    # Plot data and save figure\n",
    "    markers, caps, bars = plt.errorbar(theta_less[\"partitions\"], theta_less[\"mean\"], yerr=theta_less[\"std\"], label = \"$<$ condition\",\n",
    "                                       color=\"blue\", marker=\"D\", markersize=7)\n",
    "    [bar.set_alpha(0.5) for bar in bars]\n",
    "    markers, caps, bars = plt.errorbar(theta_more[\"partitions\"], theta_more[\"mean\"], yerr=theta_more[\"std\"], label = \"$>$ condition\",\n",
    "                                       color=\"orange\", marker=\"o\", markersize=7)\n",
    "    [bar.set_alpha(0.5) for bar in bars]\n",
    "    plt.grid(linestyle='dotted')\n",
    "\n",
    "    # set labels (LaTeX can be used) -> Note: with the setting deactivated, this will print \\textbf{...}\n",
    "    plt.xlabel(r'\\textbf{Partitions number}', fontsize=11)\n",
    "    plt.ylabel(r'\\textbf{Query execution time [s] }', fontsize=11)\n",
    "    plt.title(r'\\textbf{Execution time change with number of partitions - ' + size_label + ' datasets}', fontsize=13.5)\n",
    "    plt.legend()\n",
    "    plt.xscale(\"log\")\n",
    "\n",
    "    plt.savefig(\"plot/time_change\" + size_label + \".pdf\")\n",
    "    plt.close()"
   ]
  },
  {
   "cell_type": "code",
   "execution_count": 30,
   "metadata": {},
   "outputs": [],
   "source": [
    "theta_4000 = read_data(\"../thetajoin_count_4000.txt\")"
   ]
  },
  {
   "cell_type": "code",
   "execution_count": 27,
   "metadata": {},
   "outputs": [],
   "source": [
    "theta_4000_2_2_less, theta_4000_2_2_more = extract_joins(theta_4000, 2, 2)"
   ]
  },
  {
   "cell_type": "code",
   "execution_count": 29,
   "metadata": {},
   "outputs": [],
   "source": [
    "plot_dataset(theta_4000_2_2_less, theta_4000_2_2_more, \"4K\")"
   ]
  },
  {
   "cell_type": "code",
   "execution_count": 31,
   "metadata": {},
   "outputs": [],
   "source": [
    "labels = [\"1K\", \"2K\", \"3K\", \"4K\"]\n",
    "for index, i in enumerate(range(1000, 4001, 1000)):\n",
    "    filename = \"../thetajoin_count_\" + str(i) + \".txt\"\n",
    "    theta = read_data(filename)\n",
    "    theta_less, theta_more = extract_joins(theta, 2, 2)\n",
    "    plot_dataset(theta_less, theta_more, labels[index])"
   ]
  }
 ],
 "metadata": {
  "kernelspec": {
   "display_name": "Python [conda env:ada] *",
   "language": "python",
   "name": "conda-env-ada-py"
  },
  "language_info": {
   "codemirror_mode": {
    "name": "ipython",
    "version": 3
   },
   "file_extension": ".py",
   "mimetype": "text/x-python",
   "name": "python",
   "nbconvert_exporter": "python",
   "pygments_lexer": "ipython3",
   "version": "3.7.4"
  }
 },
 "nbformat": 4,
 "nbformat_minor": 4
}
