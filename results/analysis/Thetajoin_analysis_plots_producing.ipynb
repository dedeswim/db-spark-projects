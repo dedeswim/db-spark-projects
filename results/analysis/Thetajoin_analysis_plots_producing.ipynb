{
 "cells": [
  {
   "cell_type": "code",
   "execution_count": 1,
   "metadata": {},
   "outputs": [],
   "source": [
    "import numpy as np\n",
    "import pandas as pd\n",
    "import matplotlib.pyplot as plt\n",
    "import matplotlib"
   ]
  },
  {
   "cell_type": "code",
   "execution_count": 2,
   "metadata": {},
   "outputs": [],
   "source": [
    "matplotlib.use(\"pgf\")\n",
    "matplotlib.rcParams.update({\n",
    "    \"pgf.texsystem\": \"pdflatex\",\n",
    "    'font.family': 'serif',\n",
    "    'text.usetex': True,\n",
    "    'pgf.rcfonts': False,\n",
    "})"
   ]
  },
  {
   "cell_type": "code",
   "execution_count": 3,
   "metadata": {},
   "outputs": [],
   "source": [
    "def read_data(filename):\n",
    "    theta = pd.read_csv(filename, header = None)\n",
    "    theta = theta[[0, 1, 2, 3, 9, 10]]\n",
    "    theta[0] = theta[0].apply(lambda x: int(x.replace(\"(\", \"\")))\n",
    "    theta[10] = theta[10].apply(lambda x: float(x.replace(\")\", \"\")))\n",
    "    for i in [2,3]:\n",
    "        theta[i] = theta[i].apply(lambda x: int(x))\n",
    "    theta[9] = theta[9].apply(lambda x: float(x))\n",
    "    theta = theta.sort_values(by=[0, 2, 3])\n",
    "    theta = theta.rename(columns={0:\"partitions\", 1:\"condition\", 2:\"attrIndex1\", 3:\"attrIndex2\", 9:\"mean\", 10:\"std\"})\n",
    "    return theta"
   ]
  },
  {
   "cell_type": "code",
   "execution_count": 4,
   "metadata": {},
   "outputs": [],
   "source": [
    "def extract_joins(theta_dataset, attrIndex1, attrIndex2):\n",
    "    theta_extr = theta_dataset[(theta_dataset[\"attrIndex1\"]==attrIndex1) & (theta_dataset[\"attrIndex2\"]==attrIndex2)]\n",
    "    theta_extr_less = theta_extr[theta_extr[\"condition\"]==\"<\"].sort_values(by=\"partitions\")\n",
    "    theta_extr_more = theta_extr[theta_extr[\"condition\"]==\">\"].sort_values(by=\"partitions\")\n",
    "    return theta_extr_less, theta_extr_more"
   ]
  },
  {
   "cell_type": "code",
   "execution_count": 5,
   "metadata": {},
   "outputs": [],
   "source": [
    "def plot_dataset(theta_less, theta_more, size_label):\n",
    "    plt.figure(figsize=(9, 5))\n",
    "\n",
    "    # Plot data and save figure\n",
    "    markers, caps, bars = plt.errorbar(theta_less[\"partitions\"], theta_less[\"mean\"], yerr=theta_less[\"std\"], label = \"$<$ condition\",\n",
    "                                       color=\"blue\", marker=\"D\", markersize=7)\n",
    "    [bar.set_alpha(0.5) for bar in bars]\n",
    "    markers, caps, bars = plt.errorbar(theta_more[\"partitions\"], theta_more[\"mean\"], yerr=theta_more[\"std\"], label = \"$>$ condition\",\n",
    "                                       color=\"orange\", marker=\"o\", markersize=7)\n",
    "    [bar.set_alpha(0.5) for bar in bars]\n",
    "    plt.grid(linestyle='dotted')\n",
    "\n",
    "    # set labels (LaTeX can be used) -> Note: with the setting deactivated, this will print \\textbf{...}\n",
    "    plt.xlabel(r'\\textbf{Partitions number}', fontsize=11)\n",
    "    plt.ylabel(r'\\textbf{Query execution time [s] }', fontsize=11)\n",
    "    plt.title(r'\\textbf{Execution time change with number of partitions - ' + size_label + ' datasets}', fontsize=13.5)\n",
    "    plt.legend()\n",
    "    plt.xscale(\"log\")\n",
    "\n",
    "    plt.savefig(\"plot/time_change\" + size_label + \".pdf\")\n",
    "    plt.close()"
   ]
  },
  {
   "cell_type": "code",
   "execution_count": 33,
   "metadata": {},
   "outputs": [],
   "source": [
    "def get_best(theta_less, theta_more):\n",
    "    best_less = theta_less.sort_values(by=\"mean\").iloc[0]\n",
    "    best_more = theta_more.sort_values(by=\"mean\").iloc[0]\n",
    "    return best_less, best_more"
   ]
  },
  {
   "cell_type": "code",
   "execution_count": 7,
   "metadata": {},
   "outputs": [],
   "source": [
    "theta_4000 = read_data(\"../thetajoin/thetajoin_count_4000.txt\")"
   ]
  },
  {
   "cell_type": "code",
   "execution_count": 8,
   "metadata": {},
   "outputs": [],
   "source": [
    "theta_4000_2_2_less, theta_4000_2_2_more = extract_joins(theta_4000, 2, 2)"
   ]
  },
  {
   "cell_type": "code",
   "execution_count": 58,
   "metadata": {},
   "outputs": [],
   "source": [
    "plot_dataset(theta_4000_2_2_less, theta_4000_2_2_more, \"4K\")"
   ]
  },
  {
   "cell_type": "code",
   "execution_count": 59,
   "metadata": {},
   "outputs": [],
   "source": [
    "labels = [\"1K\", \"2K\", \"3K\", \"4K\"]\n",
    "for index, i in enumerate(range(1000, 4001, 1000)):\n",
    "    filename = \"../thetajoin/thetajoin_count_\" + str(i) + \".txt\"\n",
    "    theta = read_data(filename)\n",
    "    theta_less, theta_more = extract_joins(theta, 2, 2)\n",
    "    plot_dataset(theta_less, theta_more, labels[index])"
   ]
  },
  {
   "cell_type": "code",
   "execution_count": 37,
   "metadata": {},
   "outputs": [
    {
     "name": "stdout",
     "output_type": "stream",
     "text": [
      "1000\n",
      "Best less:\n",
      "partitions           16\n",
      "condition             <\n",
      "attrIndex1            2\n",
      "attrIndex2            2\n",
      "mean           0.224862\n",
      "std           0.0197235\n",
      "Name: 51, dtype: object\n",
      "Best more:\n",
      "partitions           32\n",
      "condition             >\n",
      "attrIndex1            2\n",
      "attrIndex2            2\n",
      "mean           0.222244\n",
      "std           0.0126878\n",
      "Name: 62, dtype: object\n",
      "2000\n",
      "Best less:\n",
      "partitions           16\n",
      "condition             <\n",
      "attrIndex1            2\n",
      "attrIndex2            2\n",
      "mean           0.268458\n",
      "std           0.0257556\n",
      "Name: 60, dtype: object\n",
      "Best more:\n",
      "partitions          16\n",
      "condition            >\n",
      "attrIndex1           2\n",
      "attrIndex2           2\n",
      "mean          0.256345\n",
      "std           0.013926\n",
      "Name: 10, dtype: object\n",
      "3000\n",
      "Best less:\n",
      "partitions           64\n",
      "condition             <\n",
      "attrIndex1            2\n",
      "attrIndex2            2\n",
      "mean           0.324203\n",
      "std           0.0179939\n",
      "Name: 43, dtype: object\n",
      "Best more:\n",
      "partitions           32\n",
      "condition             >\n",
      "attrIndex1            2\n",
      "attrIndex2            2\n",
      "mean           0.338947\n",
      "std           0.0196661\n",
      "Name: 34, dtype: object\n",
      "4000\n",
      "Best less:\n",
      "partitions            64\n",
      "condition              <\n",
      "attrIndex1             2\n",
      "attrIndex2             2\n",
      "mean            0.395887\n",
      "std           0.00943506\n",
      "Name: 11, dtype: object\n",
      "Best more:\n",
      "partitions           64\n",
      "condition             >\n",
      "attrIndex1            2\n",
      "attrIndex2            2\n",
      "mean           0.353105\n",
      "std           0.0153603\n",
      "Name: 16, dtype: object\n"
     ]
    }
   ],
   "source": [
    "for index, i in enumerate(range(1000, 4001, 1000)):\n",
    "    filename = \"../thetajoin/thetajoin_count_\" + str(i) + \".txt\"\n",
    "    theta = read_data(filename)\n",
    "    theta_less, theta_more = extract_joins(theta, 2, 2)\n",
    "    best_less, best_more = get_best(theta_less, theta_more)\n",
    "    print(i)\n",
    "    print(\"Best less:\")\n",
    "    print(best_less)\n",
    "    print(\"Best more:\")\n",
    "    print(best_more)"
   ]
  }
 ],
 "metadata": {
  "kernelspec": {
   "display_name": "Python [conda env:ada] *",
   "language": "python",
   "name": "conda-env-ada-py"
  },
  "language_info": {
   "codemirror_mode": {
    "name": "ipython",
    "version": 3
   },
   "file_extension": ".py",
   "mimetype": "text/x-python",
   "name": "python",
   "nbconvert_exporter": "python",
   "pygments_lexer": "ipython3",
   "version": "3.7.4"
  }
 },
 "nbformat": 4,
 "nbformat_minor": 4
}
