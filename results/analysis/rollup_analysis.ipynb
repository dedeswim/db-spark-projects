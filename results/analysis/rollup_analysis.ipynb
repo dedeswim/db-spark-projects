{
 "cells": [
  {
   "cell_type": "code",
   "execution_count": 1,
   "metadata": {},
   "outputs": [],
   "source": [
    "import pandas as pd\n",
    "import matplotlib.pyplot as plt\n",
    "import matplotlib"
   ]
  },
  {
   "cell_type": "code",
   "execution_count": 2,
   "metadata": {},
   "outputs": [],
   "source": [
    "matplotlib.use(\"pgf\")\n",
    "matplotlib.rcParams.update({\n",
    "    \"pgf.texsystem\": \"pdflatex\",\n",
    "    'font.family': 'serif',\n",
    "    'text.usetex': True,\n",
    "    'pgf.rcfonts': False,\n",
    "})"
   ]
  },
  {
   "cell_type": "code",
   "execution_count": 3,
   "metadata": {},
   "outputs": [],
   "source": [
    "def read_data(filename):\n",
    "    rollup = pd.read_csv(filename, header = None)\n",
    "    rollup = rollup[[0, 1, 7, 8]]\n",
    "    rollup[0] = rollup[0].apply(lambda x: int(x.replace(\"(\", \"\")))\n",
    "    rollup[8] = rollup[8].apply(lambda x: float(x.replace(\")\", \"\")))\n",
    "    \n",
    "    for i in [0, 1]:\n",
    "        rollup[i] = rollup[i].apply(lambda x: int(x))\n",
    "    for i in [7, 8]:\n",
    "        rollup[i] = rollup[i].apply(lambda x: float(x))\n",
    "\n",
    "    rollup = rollup.sort_values(by=[0, 1, 7])\n",
    "    rollup = rollup.rename(columns={0:\"size\", 1:\"n_indices\", 7:\"mean\", 8:\"stdev\"})\n",
    "    \n",
    "    return rollup"
   ]
  },
  {
   "cell_type": "code",
   "execution_count": 4,
   "metadata": {},
   "outputs": [],
   "source": [
    "naive_filename = \"../rollup/results_rollup_naive_avg.txt\"\n",
    "opt_filename = \"../rollup/results_rollup_opt_avg.txt\"\n",
    "\n",
    "rollup_naive = read_data(naive_filename)\n",
    "rollup_opt = read_data(opt_filename)"
   ]
  },
  {
   "cell_type": "code",
   "execution_count": 5,
   "metadata": {},
   "outputs": [],
   "source": [
    "rollup_naive_small = rollup_naive[rollup_naive[\"size\"] == 6008]\n",
    "rollup_opt_small = rollup_opt[rollup_opt[\"size\"] == 6008]"
   ]
  },
  {
   "cell_type": "code",
   "execution_count": 6,
   "metadata": {},
   "outputs": [
    {
     "data": {
      "text/plain": [
       "<ErrorbarContainer object of 3 artists>"
      ]
     },
     "execution_count": 6,
     "metadata": {},
     "output_type": "execute_result"
    }
   ],
   "source": [
    "plt.errorbar(rollup_naive_small[\"n_indices\"], rollup_naive_small[\"mean\"], yerr=rollup_naive_small[\"stdev\"])\n",
    "plt.errorbar(rollup_opt_small[\"n_indices\"], rollup_opt_small[\"mean\"], yerr=rollup_opt_small[\"stdev\"])"
   ]
  },
  {
   "cell_type": "code",
   "execution_count": 17,
   "metadata": {},
   "outputs": [],
   "source": [
    "plt.figure(figsize=(17, 8))\n",
    "label = \"lineorder_small\"\n",
    "\n",
    "# Plot data and save figure\n",
    "markers, caps, bars = plt.errorbar(rollup_naive_small[\"n_indices\"], rollup_naive_small[\"mean\"], yerr=rollup_naive_small[\"stdev\"],\n",
    "                                   label=\"Naive\", color=\"blue\", marker=\"D\", markersize=7)\n",
    "[bar.set_alpha(0.5) for bar in bars]\n",
    "\n",
    "markers, caps, bars = plt.errorbar(rollup_opt_small[\"n_indices\"], rollup_opt_small[\"mean\"], yerr=rollup_opt_small[\"stdev\"],\n",
    "                                   label = \"Optimized\", color=\"orange\", marker=\"o\", markersize=7)\n",
    "[bar.set_alpha(0.5) for bar in bars]\n",
    "plt.grid(linestyle='dotted')\n",
    "\n",
    "# set labels (LaTeX can be used) -> Note: with the setting deactivated, this will print \\textbf{...}\n",
    "plt.xlabel(r'\\textbf{Number of indices to group}', fontsize=15)\n",
    "plt.ylabel(r'\\textbf{Query execution time [s]}', fontsize=15)\n",
    "plt.title(r'\\textbf{Execution time change with number of indices to group - ' + label + ' dataset}', fontsize=18)\n",
    "plt.legend()\n",
    "# plt.xscale(\"log\")\n",
    "\n",
    "plt.savefig(\"plot/rollup/indices_change_lineorder_small.pdf\")\n",
    "plt.close()"
   ]
  },
  {
   "cell_type": "code",
   "execution_count": 8,
   "metadata": {},
   "outputs": [],
   "source": [
    "rollup_naive_medium = rollup_naive[rollup_naive[\"size\"] == 600572]\n",
    "rollup_opt_medium = rollup_opt[rollup_opt[\"size\"] == 600572]\n",
    "\n",
    "plt.figure(figsize=(17, 8))\n",
    "label = \"lineorder_medium\"\n",
    "\n",
    "# Plot data and save figure\n",
    "markers, caps, bars = plt.errorbar(rollup_naive_medium[\"n_indices\"], rollup_naive_medium[\"mean\"], yerr=rollup_naive_medium[\"stdev\"],\n",
    "                                   label=\"Naive\", color=\"blue\", marker=\"D\", markersize=7)\n",
    "[bar.set_alpha(0.5) for bar in bars]\n",
    "\n",
    "markers, caps, bars = plt.errorbar(rollup_opt_medium[\"n_indices\"], rollup_opt_medium[\"mean\"], yerr=rollup_opt_medium[\"stdev\"],\n",
    "                                   label = \"Optimized\", color=\"orange\", marker=\"o\", markersize=7)\n",
    "[bar.set_alpha(0.5) for bar in bars]\n",
    "plt.grid(linestyle='dotted')\n",
    "\n",
    "# set labels (LaTeX can be used) -> Note: with the setting deactivated, this will print \\textbf{...}\n",
    "plt.xlabel(r'\\textbf{Number of indices to group}', fontsize=15)\n",
    "plt.ylabel(r'\\textbf{Query execution time [s]}', fontsize=15)\n",
    "plt.title(r'\\textbf{Execution time change with number of indices to group - ' + label + ' dataset}', fontsize=18)\n",
    "plt.legend(loc='upper left')\n",
    "# plt.xscale(\"log\")\n",
    "\n",
    "plt.savefig(\"plot/rollup/indices_change_lineorder_medium.pdf\")\n",
    "plt.close()"
   ]
  },
  {
   "cell_type": "code",
   "execution_count": 10,
   "metadata": {},
   "outputs": [],
   "source": [
    "rollup_naive_big = rollup_naive[rollup_naive[\"size\"] == 6001171]\n",
    "rollup_opt_big = rollup_opt[rollup_opt[\"size\"] == 6001171]\n",
    "\n",
    "plt.figure(figsize=(17, 8))\n",
    "label = \"lineorder_big\"\n",
    "\n",
    "# Plot data and save figure\n",
    "markers, caps, bars = plt.errorbar(rollup_naive_big[\"n_indices\"], rollup_naive_big[\"mean\"], yerr=rollup_naive_big[\"stdev\"],\n",
    "                                   label=\"Naive\", color=\"blue\", marker=\"D\", markersize=7)\n",
    "[bar.set_alpha(0.5) for bar in bars]\n",
    "\n",
    "markers, caps, bars = plt.errorbar(rollup_opt_big[\"n_indices\"], rollup_opt_big[\"mean\"], yerr=rollup_opt_big[\"stdev\"],\n",
    "                                   label = \"Optimized\", color=\"orange\", marker=\"o\", markersize=7)\n",
    "[bar.set_alpha(0.5) for bar in bars]\n",
    "plt.grid(linestyle='dotted')\n",
    "\n",
    "# set labels (LaTeX can be used) -> Note: with the setting deactivated, this will print \\textbf{...}\n",
    "plt.xlabel(r'\\textbf{Number of indices to group}', fontsize=15)\n",
    "plt.ylabel(r'\\textbf{Query execution time [s]}', fontsize=15)\n",
    "plt.title(r'\\textbf{Execution time change with number of indices to group - ' + label + ' dataset}', fontsize=18)\n",
    "plt.legend(loc='upper left')\n",
    "# plt.xscale(\"log\")\n",
    "\n",
    "plt.savefig(\"plot/rollup/indices_change_lineorder_big.pdf\")\n",
    "plt.close()"
   ]
  },
  {
   "cell_type": "code",
   "execution_count": 16,
   "metadata": {},
   "outputs": [],
   "source": [
    "rollup_naive_big = rollup_naive[rollup_naive[\"size\"] == 2000390]\n",
    "rollup_opt_big = rollup_opt[rollup_opt[\"size\"] == 2000390]\n",
    "\n",
    "plt.figure(figsize=(17, 8))\n",
    "label = \"lineorder_big\"\n",
    "\n",
    "# Plot data and save figure\n",
    "markers, caps, bars = plt.errorbar(rollup_naive_big[\"n_indices\"], rollup_naive_big[\"mean\"], yerr=rollup_naive_big[\"stdev\"],\n",
    "                                   label=\"Naive\", color=\"blue\", marker=\"D\", markersize=7)\n",
    "[bar.set_alpha(0.5) for bar in bars]\n",
    "\n",
    "markers, caps, bars = plt.errorbar(rollup_opt_big[\"n_indices\"], rollup_opt_big[\"mean\"], yerr=rollup_opt_big[\"stdev\"],\n",
    "                                   label = \"Optimized\", color=\"orange\", marker=\"o\", markersize=7)\n",
    "[bar.set_alpha(0.5) for bar in bars]\n",
    "plt.grid(linestyle='dotted')\n",
    "\n",
    "# set labels (LaTeX can be used) -> Note: with the setting deactivated, this will print \\textbf{...}\n",
    "plt.xlabel(r'\\textbf{Number of indices to group}', fontsize=15)\n",
    "plt.ylabel(r'\\textbf{Query execution time [s]}', fontsize=15)\n",
    "plt.title(r'\\textbf{Execution time change with number of indices to group - ' + label + ' dataset}', fontsize=18)\n",
    "plt.legend(loc='upper left')\n",
    "# plt.xscale(\"log\")\n",
    "\n",
    "plt.savefig(\"plot/rollup/indices_change_lineorder_big_200k.pdf\")\n",
    "plt.close()"
   ]
  },
  {
   "cell_type": "code",
   "execution_count": 19,
   "metadata": {},
   "outputs": [],
   "source": [
    "rollup_naive_big = rollup_naive[rollup_naive[\"size\"] == 300286]\n",
    "rollup_opt_big = rollup_opt[rollup_opt[\"size\"] == 300286]\n",
    "\n",
    "plt.figure(figsize=(17, 8))\n",
    "label = \"lineorder_big\"\n",
    "\n",
    "# Plot data and save figure\n",
    "markers, caps, bars = plt.errorbar(rollup_naive_big[\"n_indices\"], rollup_naive_big[\"mean\"], yerr=rollup_naive_big[\"stdev\"],\n",
    "                                   label=\"Naive\", color=\"blue\", marker=\"D\", markersize=7)\n",
    "[bar.set_alpha(0.5) for bar in bars]\n",
    "\n",
    "markers, caps, bars = plt.errorbar(rollup_opt_big[\"n_indices\"], rollup_opt_big[\"mean\"], yerr=rollup_opt_big[\"stdev\"],\n",
    "                                   label = \"Optimized\", color=\"orange\", marker=\"o\", markersize=7)\n",
    "[bar.set_alpha(0.5) for bar in bars]\n",
    "plt.grid(linestyle='dotted')\n",
    "\n",
    "# set labels (LaTeX can be used) -> Note: with the setting deactivated, this will print \\textbf{...}\n",
    "plt.xlabel(r'\\textbf{Number of indices to group}', fontsize=15)\n",
    "plt.ylabel(r'\\textbf{Query execution time [s]}', fontsize=15)\n",
    "plt.title(r'\\textbf{Execution time change with number of indices to group - ' + label + ' dataset}', fontsize=18)\n",
    "plt.legend(loc='upper left')\n",
    "# plt.xscale(\"log\")\n",
    "\n",
    "plt.savefig(\"plot/rollup/indices_change_lineorder_big_300k.pdf\")\n",
    "plt.close()"
   ]
  },
  {
   "cell_type": "code",
   "execution_count": null,
   "metadata": {},
   "outputs": [],
   "source": []
  }
 ],
 "metadata": {
  "kernelspec": {
   "display_name": "Python 3",
   "language": "python",
   "name": "python3"
  },
  "language_info": {
   "codemirror_mode": {
    "name": "ipython",
    "version": 3
   },
   "file_extension": ".py",
   "mimetype": "text/x-python",
   "name": "python",
   "nbconvert_exporter": "python",
   "pygments_lexer": "ipython3",
   "version": "3.7.7"
  }
 },
 "nbformat": 4,
 "nbformat_minor": 4
}
