{
 "cells": [
  {
   "cell_type": "code",
   "execution_count": 1,
   "metadata": {},
   "outputs": [],
   "source": [
    "import pandas as pd\n",
    "import matplotlib.pyplot as plt\n",
    "import matplotlib"
   ]
  },
  {
   "cell_type": "code",
   "execution_count": 2,
   "metadata": {},
   "outputs": [],
   "source": [
    "matplotlib.use(\"pgf\")\n",
    "matplotlib.rcParams.update({\n",
    "    \"pgf.texsystem\": \"pdflatex\",\n",
    "    'font.family': 'serif',\n",
    "    'text.usetex': True,\n",
    "    'pgf.rcfonts': False,\n",
    "})"
   ]
  },
  {
   "cell_type": "code",
   "execution_count": 3,
   "metadata": {},
   "outputs": [],
   "source": [
    "def read_data(filename):\n",
    "    data = pd.read_csv(filename, header=None)\n",
    "    data = data[[1, 7, 8]]\n",
    "    data = data.rename({1: \"n_indices\", 7: \"mean\", 8: \"stddev\"}, axis=1)\n",
    "    data = data.sort_values(by=\"n_indices\")\n",
    "    \n",
    "    return data"
   ]
  },
  {
   "cell_type": "code",
   "execution_count": 4,
   "metadata": {},
   "outputs": [],
   "source": [
    "def produce_plot(size):\n",
    "    naive_res = read_data(f\"../rollup/naive/{size}.csv\")\n",
    "    opt_res = read_data(f\"../rollup/optimized/{size}.csv\")\n",
    "    plt.figure(figsize=(17, 8))\n",
    "    \n",
    "    label = f\"lineorder_{size}\"\n",
    "\n",
    "    # Plot data and save figure\n",
    "    markers, caps, bars = plt.errorbar(naive_res[\"n_indices\"], naive_res[\"mean\"], yerr=naive_res[\"stddev\"],\n",
    "                                       label=\"Naive\", color=\"blue\", marker=\"D\", markersize=7)\n",
    "    [bar.set_alpha(0.5) for bar in bars]\n",
    "\n",
    "    markers, caps, bars = plt.errorbar(opt_res[\"n_indices\"], opt_res[\"mean\"], yerr=opt_res[\"stddev\"],\n",
    "                                       label = \"Optimized\", color=\"orange\", marker=\"o\", markersize=7)\n",
    "    [bar.set_alpha(0.5) for bar in bars]\n",
    "    plt.grid(linestyle='dotted')\n",
    "\n",
    "    # set labels (LaTeX can be used) -> Note: with the setting deactivated, this will print \\textbf{...}\n",
    "    plt.xlabel(r'\\textbf{Number of indices to group}', fontsize=15)\n",
    "    plt.ylabel(r'\\textbf{Query execution time [s]}', fontsize=15)\n",
    "    plt.title(r'\\textbf{Execution time change with number of indices to group - ' + label + ' dataset}', fontsize=18)\n",
    "    plt.legend()\n",
    "    # plt.xscale(\"log\")\n",
    "\n",
    "    plt.savefig(f\"plot/rollup/indices_change_lineorder_{size}.pdf\")\n",
    "    plt.close()"
   ]
  },
  {
   "cell_type": "code",
   "execution_count": 5,
   "metadata": {},
   "outputs": [],
   "source": [
    "for dataset in [\"small\", \"medium\", \"big\"]:\n",
    "    produce_plot(dataset)"
   ]
  },
  {
   "cell_type": "code",
   "execution_count": null,
   "metadata": {},
   "outputs": [],
   "source": []
  }
 ],
 "metadata": {
  "kernelspec": {
   "display_name": "Python 3",
   "language": "python",
   "name": "python3"
  },
  "language_info": {
   "codemirror_mode": {
    "name": "ipython",
    "version": 3
   },
   "file_extension": ".py",
   "mimetype": "text/x-python",
   "name": "python",
   "nbconvert_exporter": "python",
   "pygments_lexer": "ipython3",
   "version": "3.7.7"
  }
 },
 "nbformat": 4,
 "nbformat_minor": 4
}
