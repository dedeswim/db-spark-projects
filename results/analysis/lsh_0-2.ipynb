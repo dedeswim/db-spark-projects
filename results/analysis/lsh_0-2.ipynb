{
 "cells": [
  {
   "cell_type": "code",
   "execution_count": 1,
   "metadata": {},
   "outputs": [],
   "source": [
    "import pandas as pd"
   ]
  },
  {
   "cell_type": "code",
   "execution_count": 2,
   "metadata": {},
   "outputs": [],
   "source": [
    "all_data = pd.read_csv(\"../lsh/composite_performance.csv\")"
   ]
  },
  {
   "cell_type": "code",
   "execution_count": 3,
   "metadata": {},
   "outputs": [],
   "source": [
    "def get_query_data(query_number, recall_threshold, precision_threshold):\n",
    "    \n",
    "    def column_info(column_name, required_value):\n",
    "        column = query[column_name]\n",
    "        avg = column.mean()\n",
    "        std = column.std()\n",
    "        \n",
    "        percentage_above = len(column[column > required_value]) / len(column)\n",
    "\n",
    "        print(f\"Mean {column_name}: {avg}, stddev: {std}\")\n",
    "        print(f\"Required {column_name}: {required_value}\")\n",
    "        print(f\"Percentage above required {column_name}: {percentage_above}\")\n",
    "        \n",
    "        if percentage_above != 1:\n",
    "            queries_below_mean = (required_value - column[column < required_value]).mean()\n",
    "            queries_below_std = (required_value - column[column < required_value]).std()\n",
    "            print(f\"Mean {column_name} error of those wrong: {queries_below_mean}, std: {queries_below_std}\")\n",
    "\n",
    "    query = all_data[all_data['query'] == query_number]\n",
    "        \n",
    "    print(f\"Query {query_number}\")\n",
    "    print(\"----------------------------------\")\n",
    "    \n",
    "    column_info('recall', recall_threshold)\n",
    "    print(\"\\n\")\n",
    "    column_info('precision', precision_threshold)\n",
    "    print(\"\\n\")\n",
    "    avg_accuracy = query['accuracy'].mean()\n",
    "    print(f\"Mean accuracy: {avg_accuracy}, std: {query['accuracy'].std()}\")\n",
    "    \n",
    "    print(\"\\n\\n\")"
   ]
  },
  {
   "cell_type": "code",
   "execution_count": 4,
   "metadata": {},
   "outputs": [
    {
     "name": "stdout",
     "output_type": "stream",
     "text": [
      "Query 0\n",
      "----------------------------------\n",
      "Mean recall: 0.8493823583732649, stddev: 0.01351737178053964\n",
      "Required recall: 0.83\n",
      "Percentage above required recall: 0.94\n",
      "Mean recall error of those wrong: 0.005099309235040002, std: 0.003278195509733264\n",
      "\n",
      "\n",
      "Mean precision: 0.8672751764303218, stddev: 0.018257598073514663\n",
      "Required precision: 0.7\n",
      "Percentage above required precision: 1.0\n",
      "\n",
      "\n",
      "Mean accuracy: 0.9968108055432537, std: 0.0005842340268631217\n",
      "\n",
      "\n",
      "\n",
      "Query 1\n",
      "----------------------------------\n",
      "Mean recall: 0.7200639056239901, stddev: 0.009840403166136031\n",
      "Required recall: 0.7\n",
      "Percentage above required recall: 1.0\n",
      "\n",
      "\n",
      "Mean precision: 0.9903983485713138, stddev: 0.005689370910609663\n",
      "Required precision: 0.98\n",
      "Percentage above required precision: 0.98\n",
      "Mean precision error of those wrong: 0.013755777666353608, std: 0.014484720863321383\n",
      "\n",
      "\n",
      "Mean accuracy: 0.9954152651365255, std: 0.00025463888699282463\n",
      "\n",
      "\n",
      "\n",
      "Query 2\n",
      "----------------------------------\n",
      "Mean recall: 0.9384176340404662, stddev: 0.01016382360742979\n",
      "Required recall: 0.9\n",
      "Percentage above required recall: 1.0\n",
      "\n",
      "\n",
      "Mean precision: 0.5202844750423798, stddev: 0.017598437148415382\n",
      "Required precision: 0.45\n",
      "Percentage above required precision: 1.0\n",
      "\n",
      "\n",
      "Mean accuracy: 0.9931838919149905, std: 0.001892190560048641\n",
      "\n",
      "\n",
      "\n"
     ]
    }
   ],
   "source": [
    "queries = [\n",
    "    (0.83, 0.70),\n",
    "    (0.7, 0.98),\n",
    "    (0.9, 0.45)\n",
    "]\n",
    "\n",
    "for query, (recall, precision) in enumerate(queries):\n",
    "    get_query_data(query, recall, precision)"
   ]
  },
  {
   "cell_type": "code",
   "execution_count": null,
   "metadata": {},
   "outputs": [],
   "source": []
  },
  {
   "cell_type": "code",
   "execution_count": null,
   "metadata": {},
   "outputs": [],
   "source": []
  }
 ],
 "metadata": {
  "kernelspec": {
   "display_name": "Python 3",
   "language": "python",
   "name": "python3"
  },
  "language_info": {
   "codemirror_mode": {
    "name": "ipython",
    "version": 3
   },
   "file_extension": ".py",
   "mimetype": "text/x-python",
   "name": "python",
   "nbconvert_exporter": "python",
   "pygments_lexer": "ipython3",
   "version": "3.7.4"
  }
 },
 "nbformat": 4,
 "nbformat_minor": 4
}
